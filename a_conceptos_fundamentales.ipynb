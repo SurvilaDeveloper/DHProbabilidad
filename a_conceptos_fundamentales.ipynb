{
 "cells": [
  {
   "cell_type": "markdown",
   "id": "ce842fc0",
   "metadata": {},
   "source": [
    "# Conceptos Fundamentales de Probabilidad\n",
    "\n",
    "## 1. Experimento Aleatorio\n",
    "\n",
    "Definimos como **experimento** a cualquier proceso que produce una observación o resultado.\n",
    "\n",
    "- En un **experimento determinístico**, cada vez que se realiza bajo condiciones similares, arroja el mismo resultado.\n",
    "\n",
    "  **Ejemplo**:  \n",
    "  Conociendo la altura desde la que se arroja un objeto, es posible saber exactamente el tiempo que tardará en llegar al suelo en condiciones de vacío.\n",
    "\n",
    "- Un **experimento aleatorio** es aquel en el que no se tiene certeza de su resultado hasta que no se lo ejecuta.  \n",
    "  Es posible conocer a priori el conjunto de todos los posibles resultados, pero no predecir exactamente cuál ocurrirá.\n",
    "\n",
    "  **Ejemplos**:\n",
    "  - Lanzamiento de dados\n",
    "  - Lanzamiento de una moneda\n",
    "  - Extracción de una carta de una baraja\n",
    "\n",
    "---\n",
    "\n",
    "## 2. Espacio Muestral\n",
    "\n",
    "El **espacio muestral** es el conjunto de todos los resultados posibles de un experimento aleatorio.  \n",
    "Se denota con la letra griega **Ω**.  \n",
    "Cada resultado particular se representa con **𝜔**.\n",
    "\n",
    "**Ejemplo**:  \n",
    "Experimento: lanzar un dado y observar el número que sale.\n",
    "\n",
    "$$\n",
    "\\Omega = \\{1, 2, 3, 4, 5, 6\\}\n",
    "$$\n",
    "\n",
    "---\n",
    "\n",
    "## 3. Evento\n",
    "\n",
    "Un **evento** es una acción o suceso que puede ocurrir durante un experimento aleatorio.\n",
    "\n",
    "**Ejemplos**:\n",
    "- Definimos el conjunto **A = {1, 3, 5}**, que corresponde a obtener un número impar al lanzar un dado.\n",
    "- Si lanzamos el dado y sale **3**, decimos que ocurrió el evento **A**.\n",
    "- Si lanzamos el dado y sale **2**, decimos que **no** ocurrió el evento **A**.\n"
   ]
  },
  {
   "cell_type": "code",
   "execution_count": 1,
   "id": "9986c5af",
   "metadata": {},
   "outputs": [
    {
     "name": "stdout",
     "output_type": "stream",
     "text": [
      "La probabilidad de obtener un número par al lanzar un dado es: 0.50\n",
      "El evento par es: {2, 4, 6}\n",
      "El espacio muestral es: {1, 2, 3, 4, 5, 6}\n",
      "El número total de eventos posibles es: 6\n",
      "El número total de eventos favorables es: 3\n",
      "La probabilidad de obtener un número impar al lanzar un dado es: 0.50\n",
      "El evento impar es: {1, 3, 5}\n",
      "El número total de eventos favorables para el evento impar es: 3\n"
     ]
    }
   ],
   "source": [
    "espacio_muestral = {1, 2, 3, 4, 5, 6}\n",
    "\n",
    "evento_par = {2, 4, 6}\n",
    "\n",
    "probabilidad_evento_par = len(evento_par) / len(espacio_muestral)\n",
    "\n",
    "print(f\"La probabilidad de obtener un número par al lanzar un dado es: {probabilidad_evento_par:.2f}\")\n",
    "print(f\"El evento par es: {evento_par}\")\n",
    "print(f\"El espacio muestral es: {espacio_muestral}\")\n",
    "print(f\"El número total de eventos posibles es: {len(espacio_muestral)}\")\n",
    "print(f\"El número total de eventos favorables es: {len(evento_par)}\")\n",
    "print(f\"La probabilidad de obtener un número impar al lanzar un dado es: {1 - probabilidad_evento_par:.2f}\")\n",
    "print(f\"El evento impar es: {espacio_muestral - evento_par}\")\n",
    "print(f\"El número total de eventos favorables para el evento impar es: {len(espacio_muestral - evento_par)}\")\n"
   ]
  }
 ],
 "metadata": {
  "kernelspec": {
   "display_name": "Python 3",
   "language": "python",
   "name": "python3"
  },
  "language_info": {
   "codemirror_mode": {
    "name": "ipython",
    "version": 3
   },
   "file_extension": ".py",
   "mimetype": "text/x-python",
   "name": "python",
   "nbconvert_exporter": "python",
   "pygments_lexer": "ipython3",
   "version": "3.12.6"
  }
 },
 "nbformat": 4,
 "nbformat_minor": 5
}
