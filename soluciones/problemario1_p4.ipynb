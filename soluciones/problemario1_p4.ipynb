{
 "cells": [
  {
   "cell_type": "markdown",
   "id": "36580813",
   "metadata": {},
   "source": [
    "### ✅ Distribución Log-normal\n",
    "\n",
    "**Problema 4:**  \n",
    "El tiempo (en horas) que tarda un proceso industrial sigue una distribución log-normal  \n",
    "con $\\mu = 1.5$ y $\\sigma = 0.4$ (en escala logarítmica).  \n",
    "¿Cuál es la probabilidad de que el proceso dure **más de 6 horas**?\n",
    "\n",
    "**✍️ Solución:** 0.2329"
   ]
  },
  {
   "cell_type": "code",
   "execution_count": 1,
   "id": "85a2fd99",
   "metadata": {},
   "outputs": [],
   "source": [
    "import numpy as np\n",
    "import matplotlib.pyplot as plt\n",
    "from scipy.stats import lognorm"
   ]
  }
 ],
 "metadata": {
  "kernelspec": {
   "display_name": "Python 3",
   "language": "python",
   "name": "python3"
  },
  "language_info": {
   "codemirror_mode": {
    "name": "ipython",
    "version": 3
   },
   "file_extension": ".py",
   "mimetype": "text/x-python",
   "name": "python",
   "nbconvert_exporter": "python",
   "pygments_lexer": "ipython3",
   "version": "3.12.6"
  }
 },
 "nbformat": 4,
 "nbformat_minor": 5
}
