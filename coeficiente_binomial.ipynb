{
 "cells": [
  {
   "cell_type": "code",
   "execution_count": 4,
   "id": "1b81db2e",
   "metadata": {},
   "outputs": [
    {
     "name": "stdout",
     "output_type": "stream",
     "text": [
      "El coeficiente binomial de 5 sobre 2 es 10\n"
     ]
    }
   ],
   "source": [
    "def factorial(n):\n",
    "    if n == 0 or n == 1:\n",
    "        return 1\n",
    "    resultado = 1\n",
    "    for i in range(2, n + 1):\n",
    "        resultado *= i\n",
    "    return resultado\n",
    "\n",
    "def coeficiente_binomial(n, k):\n",
    "    if k < 0 or k > n:\n",
    "        return 0  # No tiene sentido si k es negativo o mayor que n\n",
    "    return factorial(n) // (factorial(k) * factorial(n - k))\n",
    "\n",
    "# Ejemplo de uso:\n",
    "n = 5\n",
    "k = 2\n",
    "print(f\"El coeficiente binomial de {n} sobre {k} es {coeficiente_binomial(n, k)}\")"
   ]
  },
  {
   "cell_type": "code",
   "execution_count": 5,
   "id": "eb7cd58b",
   "metadata": {},
   "outputs": [
    {
     "name": "stdout",
     "output_type": "stream",
     "text": [
      "El coeficiente binomial de 5 sobre 2 es 10\n"
     ]
    }
   ],
   "source": [
    "import math\n",
    "\n",
    "def coeficiente_binomial_math(n, k):\n",
    "    if k < 0 or k > n:\n",
    "        return 0\n",
    "    return math.factorial(n) // (math.factorial(k) * math.factorial(n - k))\n",
    "\n",
    "    # Ejemplo de uso:\n",
    "n = 5\n",
    "k = 2\n",
    "print(f\"El coeficiente binomial de {n} sobre {k} es {coeficiente_binomial_math(n, k)}\")"
   ]
  },
  {
   "cell_type": "code",
   "execution_count": 6,
   "id": "eef9b58a",
   "metadata": {},
   "outputs": [
    {
     "name": "stdout",
     "output_type": "stream",
     "text": [
      "El coeficiente binomial de 5 sobre 2 es 10\n"
     ]
    }
   ],
   "source": [
    "import math\n",
    "\n",
    "n = 5\n",
    "k = 2\n",
    "resultado = math.comb(n, k)\n",
    "print(f\"El coeficiente binomial de {n} sobre {k} es {resultado}\")"
   ]
  },
  {
   "cell_type": "code",
   "execution_count": 7,
   "id": "7331123c",
   "metadata": {},
   "outputs": [
    {
     "name": "stdout",
     "output_type": "stream",
     "text": [
      "El coeficiente binomial de 5 sobre 2 es 10\n"
     ]
    }
   ],
   "source": [
    "from scipy.special import comb\n",
    "\n",
    "n = 5\n",
    "k = 2\n",
    "resultado = comb(n, k, exact=True)\n",
    "print(f\"El coeficiente binomial de {n} sobre {k} es {resultado}\")"
   ]
  }
 ],
 "metadata": {
  "kernelspec": {
   "display_name": "Python 3",
   "language": "python",
   "name": "python3"
  },
  "language_info": {
   "codemirror_mode": {
    "name": "ipython",
    "version": 3
   },
   "file_extension": ".py",
   "mimetype": "text/x-python",
   "name": "python",
   "nbconvert_exporter": "python",
   "pygments_lexer": "ipython3",
   "version": "3.12.6"
  }
 },
 "nbformat": 4,
 "nbformat_minor": 5
}
