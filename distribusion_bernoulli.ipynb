{
 "cells": [
  {
   "cell_type": "markdown",
   "id": "eb862409",
   "metadata": {},
   "source": [
    "# Distribución Bernoulli\n",
    "\n",
    "---\n",
    "\n",
    "La **distribución de Bernoulli** describe un experimento aleatorio que **solo tiene dos resultados posibles**: éxito (1) o fracaso (0).\n",
    "\n",
    "---\n",
    "\n",
    "## Características de la distribución Bernoulli:\n",
    "- **p**: Probabilidad de éxito (resultado 1).\n",
    "- **1 - p**: Probabilidad de fracaso (resultado 0).\n",
    "\n",
    "---\n",
    "\n",
    "## Fórmula de la distribución Bernoulli:\n",
    "La función de probabilidad es:\n",
    "\n",
    "$$\n",
    "P(X = x) = p^x (1 - p)^{1-x}\n",
    "$$\n",
    "\n",
    "donde:\n",
    "- \\(x\\) puede ser 0 o 1.\n",
    "- \\(p\\) es la probabilidad de éxito.\n",
    "\n",
    "De manera explícita:\n",
    "\n",
    "- Para \\(x = 1\\) (éxito): \\(P(X = 1) = p\\)\n",
    "- Para \\(x = 0\\) (fracaso): \\(P(X = 0) = 1 - p\\)\n",
    "\n",
    "---\n",
    "\n",
    "## Propiedades:\n",
    "\n",
    "- **Esperanza (media)**:\n",
    "\n",
    "$$\n",
    "E[X] = p\n",
    "$$\n",
    "\n",
    "- **Varianza**:\n",
    "\n",
    "$$\n",
    "\\text{Var}(X) = p(1 - p)\n",
    "$$\n",
    "\n",
    "- **Desviación estándar**:\n",
    "\n",
    "$$\n",
    "\\sigma = \\sqrt{p(1 - p)}\n",
    "$$\n",
    "\n",
    "---\n",
    "\n",
    "## Ejemplo sencillo:\n",
    "Imagina lanzar una moneda:\n",
    "- **Éxito**: Sale cara (valor 1).\n",
    "- **Fracaso**: Sale cruz (valor 0).\n",
    "- Si la moneda es justa, entonces \\(p = 0.5\\).\n",
    "\n",
    "El lanzamiento de la moneda sigue una **distribución Bernoulli**.\n",
    "\n",
    "---\n",
    "\n"
   ]
  },
  {
   "cell_type": "code",
   "execution_count": 38,
   "id": "2a11486e",
   "metadata": {},
   "outputs": [],
   "source": [
    "# Importando las librerías necesarias\n",
    "import numpy as np\n",
    "import matplotlib.pyplot as plt\n",
    "# Estilo de fondo oscuro\n",
    "plt.style.use('dark_background')\n"
   ]
  },
  {
   "cell_type": "code",
   "execution_count": 73,
   "id": "b5813d74",
   "metadata": {},
   "outputs": [],
   "source": [
    "# Parámetros de la distribución Bernoulli\n",
    "n = 1  # Número de ensayos (lanzamientos de la moneda)\n",
    "p = 0.5  # Probabilidad de éxito (cara)\n",
    "size = 1000  # Número de muestras a generar"
   ]
  },
  {
   "cell_type": "code",
   "execution_count": null,
   "id": "b3bdb38d",
   "metadata": {},
   "outputs": [
    {
     "name": "stdout",
     "output_type": "stream",
     "text": [
      "Éxitos: 480\n",
      "Fracasos: 520\n"
     ]
    },
    {
     "data": {
      "image/png": "[encoded data removed]",
      "text/plain": [
       "<Figure size 480x240 with 1 Axes>"
      ]
     },
     "metadata": {},
     "output_type": "display_data"
    }
   ],
   "source": [
    "# Generando los resultados de los lanzamientos (0 = fracaso, 1 = éxito)\n",
    "resultados = np.random.binomial(n, p, size)\n",
    "\n",
    "# Contamos los éxitos (1) y fracasos (0)\n",
    "exitos = np.sum(resultados)\n",
    "fracasos = size - exitos\n",
    "\n",
    "# medidas\n",
    "media = np.mean(resultados)\n",
    "varianza = np.var(resultados)\n",
    "desviacion_estandar = np.std(resultados)\n",
    "\n",
    "print('media', media)\n",
    "print('varianza', varianza)\n",
    "print('desviacion estandar', desviacion_estandar)\n",
    "\n",
    "# Mostramos el número de éxitos y fracasos\n",
    "print(f\"Éxitos: {exitos}\")\n",
    "print(f\"Fracasos: {fracasos}\")\n",
    "\n",
    "# Graficando los resultados\n",
    "plt.figure(figsize=(6, 3))\n",
    "plt.hist(resultados, bins=2, edgecolor='blue',color=(0.5,0.5,1), rwidth=0.8)\n",
    "plt.xticks([0, 1], ['Fracaso (0)', 'Éxito (1)'])\n",
    "plt.title(f\"Distribución Bernoulli\\nÉxitos: {exitos} | Fracasos: {fracasos}\")\n",
    "plt.xlabel('Resultado (0 = Fracaso, 1 = Éxito)')\n",
    "plt.ylabel('Frecuencia')\n",
    "plt.grid(True)\n",
    "plt.show()"
   ]
  }
 ],
 "metadata": {
  "kernelspec": {
   "display_name": "Python 3",
   "language": "python",
   "name": "python3"
  },
  "language_info": {
   "codemirror_mode": {
    "name": "ipython",
    "version": 3
   },
   "file_extension": ".py",
   "mimetype": "text/x-python",
   "name": "python",
   "nbconvert_exporter": "python",
   "pygments_lexer": "ipython3",
   "version": "3.12.6"
  }
 },
 "nbformat": 4,
 "nbformat_minor": 5
}
